{
  "nbformat": 4,
  "nbformat_minor": 0,
  "metadata": {
    "colab": {
      "provenance": []
    },
    "kernelspec": {
      "name": "python3",
      "display_name": "Python 3"
    },
    "language_info": {
      "name": "python"
    }
  },
  "cells": [
    {
      "cell_type": "markdown",
      "source": [
        "# **Experiment 1**\n",
        "Implement logical XOR operation and prove its cryptography"
      ],
      "metadata": {
        "id": "qVPQMi8_mLDm"
      }
    },
    {
      "cell_type": "code",
      "execution_count": null,
      "metadata": {
        "colab": {
          "base_uri": "https://localhost:8080/"
        },
        "id": "5iAP0_I6lhkl",
        "outputId": "3995c49e-be77-420c-818e-03d338a8bea7"
      },
      "outputs": [
        {
          "output_type": "stream",
          "name": "stdout",
          "text": [
            "9\n",
            "ODD\n"
          ]
        }
      ],
      "source": [
        "x=int(input())\n",
        "print(\"EVEN\" if(x^1>x) else \"ODD\")"
      ]
    },
    {
      "cell_type": "code",
      "source": [
        "x=int(input())\n",
        "y=int(input())\n",
        "x=x^y\n",
        "y=x^y\n",
        "x=x^y\n",
        "print(x)\n",
        "print(y)"
      ],
      "metadata": {
        "colab": {
          "base_uri": "https://localhost:8080/"
        },
        "id": "HILjAfkBmsFn",
        "outputId": "3cc12012-15ce-4b2d-ef6d-116ab35f6f31"
      },
      "execution_count": null,
      "outputs": [
        {
          "output_type": "stream",
          "name": "stdout",
          "text": [
            "5\n",
            "9\n",
            "9\n",
            "5\n"
          ]
        }
      ]
    },
    {
      "cell_type": "code",
      "source": [
        "st1=input()\n",
        "st2=\"\"\n",
        "for i in st1:\n",
        "  st2+=chr(ord(i)^0)\n",
        "print(st2+\" 0\")\n",
        "st3=\"\"\n",
        "for i in st2:\n",
        "  st3+=chr(ord(i)^int(127))\n",
        "st4=\"\"\n",
        "for i in st3:\n",
        "  st4+=chr(ord(i)^int(127))\n",
        "print(st3+\" 127\")\n",
        "print(st4+\" 127\")"
      ],
      "metadata": {
        "colab": {
          "base_uri": "https://localhost:8080/"
        },
        "id": "U314hvtYnQsq",
        "outputId": "4e02fc19-4d86-4271-c13e-fceb9c027e50"
      },
      "execution_count": null,
      "outputs": [
        {
          "output_type": "stream",
          "name": "stdout",
          "text": [
            "hello world\n",
            "hello world 0\n",
            "\u0013\u001b 127\n",
            "hello world 127\n"
          ]
        }
      ]
    },
    {
      "cell_type": "code",
      "source": [
        "import random\n",
        "st1=input(\"Plain Text: \")\n",
        "al=\"ABCDEFGHIJKLMNOPQRSTUVWXYZ\"\n",
        "key=\"\".join(random.choices(al,k=len(st1)))\n",
        "ASAL=[i for i in range(len(al))]\n",
        "print(\"Cipher Text: \",end=\"\")\n",
        "for i in st1:\n",
        "  for j in key:\n",
        "    z=ASAL[al.index(i)]^ASAL[al.index(j)]\n",
        "    a=z^ASAL[al.index(j)]\n",
        "    print(al[ASAL[z]] if (z<=25) else al[ASAL[z-25]],end=\"\")\n",
        "    break\n",
        "print()\n",
        "print(\"Plain Text: \",end=\"\")\n",
        "for i in st1:\n",
        "  for j in key:\n",
        "    z=ASAL[al.index(i)]^ASAL[al.index(j)]\n",
        "    a=z^ASAL[al.index(j)]\n",
        "    print(al[ASAL[a]],end=\"\")\n",
        "    break"
      ],
      "metadata": {
        "colab": {
          "base_uri": "https://localhost:8080/"
        },
        "id": "yDZj6DuWqwUE",
        "outputId": "9007d557-5abf-4ee0-85c3-2b2a48f899a1"
      },
      "execution_count": null,
      "outputs": [
        {
          "output_type": "stream",
          "name": "stdout",
          "text": [
            "Plain Text: PAVITRA\n",
            "Cipher Text: GQFYDBQ\n",
            "Plain Text: PAVITRA"
          ]
        }
      ]
    },
    {
      "cell_type": "markdown",
      "source": [
        "# **Experiment 2**"
      ],
      "metadata": {
        "id": "8MTAJukOlOuN"
      }
    },
    {
      "cell_type": "markdown",
      "source": [
        "**Ceaser Cipher**"
      ],
      "metadata": {
        "id": "YKvkmABo3Yag"
      }
    },
    {
      "cell_type": "code",
      "source": [
        "pt=input(\"Enter the Plain Text: \")\n",
        "key=int(input(\"Enter the public key: \"))\n",
        "ct=\"\"\n",
        "for i in pt:\n",
        "  z=ord(i)+key\n",
        "  ct+=chr(z) if (z<=ord(\"Z\")) else chr((ord(\"A\")-1)+abs(ord(\"Z\")-z))\n",
        "  print(z, ord(ct[-1]))\n",
        "print(\"Cipher Text: \",ct)\n",
        "pt1=\"\"\n",
        "for i in ct:\n",
        "  z=ord(i)-key\n",
        "  pt1+=chr(z) if (z>=ord(\"A\")) else chr((ord(\"Z\"))-(abs(ord(\"A\")-z)-1))\n",
        "  print(z, ord(pt1[-1]))\n",
        "print(\"Plain Text: \",pt1)\n",
        "\n"
      ],
      "metadata": {
        "colab": {
          "base_uri": "https://localhost:8080/"
        },
        "id": "BfVNR7fflTYP",
        "outputId": "7caca0c4-1c2a-49d1-b57d-8e793d5e5b35"
      },
      "execution_count": null,
      "outputs": [
        {
          "output_type": "stream",
          "name": "stdout",
          "text": [
            "Enter the Plain Text: XYZ\n",
            "Enter the public key: 4\n",
            "92 66\n",
            "93 67\n",
            "94 68\n",
            "Cipher Text:  BCD\n",
            "62 88\n",
            "63 89\n",
            "64 90\n",
            "Plain Text:  XYZ\n"
          ]
        }
      ]
    },
    {
      "cell_type": "markdown",
      "source": [
        "**Alpine Cipher**"
      ],
      "metadata": {
        "id": "ROPUXNBNr4aA"
      }
    },
    {
      "cell_type": "code",
      "source": [
        "def egcd(a, b):\n",
        "    x,y, u,v = 0,1, 1,0\n",
        "    while a != 0:\n",
        "        q, r = b//a, b%a\n",
        "        m, n = x-u*q, y-v*q\n",
        "        b,a, x,y, u,v = a,r, u,v, m,n\n",
        "    gcd = b\n",
        "    return gcd, x, y\n",
        "\n",
        "def modinv(a, m):\n",
        "    gcd, x, y = egcd(a, m)\n",
        "    if gcd != 1:\n",
        "        return None  # modular inverse does not exist\n",
        "    else:\n",
        "        return x % m"
      ],
      "metadata": {
        "id": "a155tmJ5r-fh"
      },
      "execution_count": null,
      "outputs": []
    },
    {
      "cell_type": "code",
      "source": [
        "pt1=input(\"Enter the plain Text: \").upper()\n",
        "alph=\"ABCDEFGHIJKLMNOPQRSTUVWXYZ\"\n",
        "alphkey=[i for i in range(len(alph))]\n",
        "ct=\"\"\n",
        "key=list(map(int,input(\"Enter Space serperated keys: \").split()))\n",
        "for i in pt1:\n",
        "  pind=alph.index(i)\n",
        "  ct+=alph[(key[0]*pind+key[1])%26].lower()\n",
        "print(ct)"
      ],
      "metadata": {
        "colab": {
          "base_uri": "https://localhost:8080/"
        },
        "id": "J5A1MkLotvEF",
        "outputId": "0be79b28-0409-4b59-ff44-efc50d5d9eea"
      },
      "execution_count": null,
      "outputs": [
        {
          "output_type": "stream",
          "name": "stdout",
          "text": [
            "Enter the plain Text: geeksforgeeks\n",
            "Enter Space serperated keys: 5 16\n",
            "ukkocpixukkoc\n"
          ]
        }
      ]
    },
    {
      "cell_type": "code",
      "source": [
        "ct2=input(\"Enter the cipher text: \").upper()\n",
        "key=list(map(int,input(\"Enter Space serperated keys: \").split()))\n",
        "modi = modinv(key[0],26)\n",
        "pt=\"\"\n",
        "for i in ct2:\n",
        "  cind=alph.index(i)\n",
        "  pt+=alph[(modi*(cind-key[1]))%26].lower()\n",
        "print(pt)\n"
      ],
      "metadata": {
        "colab": {
          "base_uri": "https://localhost:8080/"
        },
        "id": "qgMtnFNUwLn3",
        "outputId": "ccb980f4-b05d-4474-c4bc-d587017328e6"
      },
      "execution_count": null,
      "outputs": [
        {
          "output_type": "stream",
          "name": "stdout",
          "text": [
            "Enter the cipher text: ukkocpixukkoc\n",
            "Enter Space serperated keys: 5 16\n",
            "geeksforgeeks\n"
          ]
        }
      ]
    },
    {
      "cell_type": "markdown",
      "source": [
        "**Vignere Cipher**"
      ],
      "metadata": {
        "id": "J6wC87e53kSl"
      }
    },
    {
      "cell_type": "code",
      "source": [
        "#vIGNERE CIPHER\n",
        "al=list(\"ABCDEFGHIJKLMNOPQRSTUVWXYZ\")\n",
        "pt=input(\"Enter the Plain Text: \")\n",
        "key=input(\"Enter the key: \")\n",
        "i=0\n",
        "k=len(key)\n",
        "while(k<=(len(pt))):\n",
        "    k+=1\n",
        "    key+=key[i]\n",
        "    i+=1\n",
        "k=0\n",
        "matrix=[]\n",
        "for i in range(26):\n",
        "    matrix.append([i for i in (al if (k==0) else al[k:]+al[:k])])\n",
        "    k+=1\n",
        "ct=\"\"\n",
        "for i in range(len(pt)):\n",
        "    ct+=matrix[al.index(key[i])][al.index(pt[i])]\n",
        "print(\"Cipher Text: \",ct)\n",
        "dt=\"\"\n",
        "for i in range(len(pt)):\n",
        "    dt+=matrix[0][matrix[al.index(key[i])].index(ct[i])]\n",
        "print(\"Plain Text: \",dt)"
      ],
      "metadata": {
        "colab": {
          "base_uri": "https://localhost:8080/"
        },
        "id": "_kMzd7IX__RV",
        "outputId": "bcfacc77-7dca-4f18-a443-237788a34176"
      },
      "execution_count": null,
      "outputs": [
        {
          "output_type": "stream",
          "name": "stdout",
          "text": [
            "Enter the Plain Text: PRABHU\n",
            "Enter the key: AKE\n",
            "Cipher Text:  PBEBRY\n",
            "Plain Text:  PRABHU\n"
          ]
        }
      ]
    },
    {
      "cell_type": "markdown",
      "source": [
        "# **Experiment 3**"
      ],
      "metadata": {
        "id": "uSUyBxk_bucZ"
      }
    },
    {
      "cell_type": "markdown",
      "source": [
        "**Rail Fence Cipher**"
      ],
      "metadata": {
        "id": "EbwG_aAu3sLP"
      }
    },
    {
      "cell_type": "code",
      "source": [
        "plaint=list(input(\"Enter the plain text: \"))\n",
        "key=int(input(\"ENter the key: \"))\n",
        "n=len(plaint)\n",
        "arr=[['\\n' for i in range(len(plaint))]\n",
        "                for j in range(key)]\n",
        "i=0\n",
        "j=0\n",
        "while(j<n):\n",
        "  if (i<key):\n",
        "    arr[i][j] = plaint[j]\n",
        "  elif (i>=key):\n",
        "    for k in range(i-2,-1,-1):\n",
        "      if j<n:\n",
        "        arr[k][j]=plaint[j]\n",
        "      j+=1\n",
        "    i=1\n",
        "    if j<n and i<key:\n",
        "      arr[i][j]=plaint[j]\n",
        "  i+=1\n",
        "  j+=1\n",
        "ciphert=\"\"\n",
        "for i in arr:\n",
        "  for j in i:\n",
        "    if j!=\"\\n\":\n",
        "      ciphert+=j\n",
        "print(\"Cipher Text: \",ciphert)\n",
        "\n",
        "plaint=list(input(\"\\n Enter the Cipher text: \"))\n",
        "key=int(input(\"ENter the key: \"))\n",
        "\n",
        "arr=[['\\n' for i in range(len(ciphert))]\n",
        "                for j in range(key)]\n",
        "i=0\n",
        "j=0\n",
        "while(j<n):\n",
        "  if (i<key):\n",
        "    arr[i][j] = '*'\n",
        "  elif (i>=key):\n",
        "    for k in range(i-2,-1,-1):\n",
        "      if j<n:\n",
        "        arr[k][j]='*'\n",
        "      j+=1\n",
        "    i=1\n",
        "    if j<n and i<key:\n",
        "      arr[i][j]='*'\n",
        "  i+=1\n",
        "  j+=1\n",
        "index=0\n",
        "for i in range(key):\n",
        "  for j in range(len(ciphert)):\n",
        "    if arr[i][j]==\"*\" and index<len(ciphert):\n",
        "      arr[i][j]=ciphert[index]\n",
        "      index+=1\n",
        "plaint1=\"\"\n",
        "i=0\n",
        "j=0\n",
        "while(j<n):\n",
        "  if (i<key):\n",
        "    plaint1+=arr[i][j]\n",
        "  elif (i>=key):\n",
        "    for k in range(i-2,-1,-1):\n",
        "      if j<n:\n",
        "        plaint1+=arr[k][j]\n",
        "      j+=1\n",
        "    i=1\n",
        "    if j<n and i<key:\n",
        "      plaint1+=arr[i][j]\n",
        "  i+=1\n",
        "  j+=1\n",
        "print(plaint1)"
      ],
      "metadata": {
        "colab": {
          "base_uri": "https://localhost:8080/"
        },
        "id": "EqM2QtxXbtOx",
        "outputId": "ac726b9b-7079-4520-b45c-ed1297322d21"
      },
      "execution_count": null,
      "outputs": [
        {
          "output_type": "stream",
          "name": "stdout",
          "text": [
            "Enter the plain text: geeksforgeeks\n",
            "ENter the key: 3\n",
            "Cipher Text:  gsgsekfrekeoe\n",
            "\n",
            " Enter the Cipher text: gsgsekfrekeoe\n",
            "ENter the key: 3\n",
            "geeksforgeeks\n"
          ]
        }
      ]
    },
    {
      "cell_type": "markdown",
      "source": [
        "**column transposition**"
      ],
      "metadata": {
        "id": "YLfbXdWvHiV_"
      }
    },
    {
      "cell_type": "code",
      "source": [
        "plaintxt = input(\"Enter the plain text: \")\n",
        "t=plaintxt\n",
        "key = input(\"Enter the key: \")\n",
        "temp=list(key)\n",
        "n=len(key)\n",
        "temp.sort()\n",
        "orl=[list(key),[]]\n",
        "for i in key:\n",
        "  orl[1].append(temp.index(i)+1)\n",
        "while(len(t)!=0):\n",
        "  if(len(t)>n):\n",
        "    orl.append(list(t[:n]))\n",
        "    t=t[n:]\n",
        "  else:\n",
        "    m1=len(t)\n",
        "    t=t+\"_\"*(n-m1)\n",
        "    orl.append(list(t))\n",
        "    t=\"\"\n",
        "ct=\"\"\n",
        "\n",
        "for i in range(1,n+1):\n",
        "  tind=orl[1].index(i)\n",
        "  for i in orl[2:]:\n",
        "    ct+=i[tind]\n",
        "\n",
        "print(orl)\n",
        "print(ct)\n"
      ],
      "metadata": {
        "colab": {
          "base_uri": "https://localhost:8080/"
        },
        "id": "wUEYWG6WHnEX",
        "outputId": "e8d9f644-4025-4747-a176-102ed0f87162"
      },
      "execution_count": null,
      "outputs": [
        {
          "output_type": "stream",
          "name": "stdout",
          "text": [
            "Enter the plain text: geeks for geeks\n",
            "Enter the key: HACK\n",
            "[['H', 'A', 'C', 'K'], [3, 1, 2, 4], ['g', 'e', 'e', 'k'], ['s', ' ', 'f', 'o'], ['r', ' ', 'g', 'e'], ['e', 'k', 's', '_']]\n",
            "e  kefgsgsrekoe_\n"
          ]
        }
      ]
    },
    {
      "cell_type": "code",
      "source": [
        "ct1=input(\"Enter the Cipher Text: \")\n",
        "key=input(\"Enter the key: \")\n",
        "\n",
        "n=len(ct1)\n",
        "k=ct1\n",
        "m=len(key)\n",
        "orl1=[[\"/n\" for i in range(n//m)] for i in range(n//m)]\n",
        "orl1.insert(0,[])\n",
        "orl1.insert(0,list(key))\n",
        "for i in key:\n",
        "  orl1[1].append(temp.index(i)+1)\n",
        "while(len(k)!=0):\n",
        "  if(len(k)>m):\n",
        "    for i in range(1,m+1):\n",
        "      tind1=orl[1].index(i)\n",
        "      for i in range(2,n//m+2):\n",
        "        orl1[i][tind1]=k[:m][i-2]\n",
        "      k=k[m:]\n",
        "  k=\"\"\n",
        "pt=\"\"\n",
        "for i in orl1[2:]:\n",
        "  for j in i:\n",
        "    pt+=j\n",
        "pt.replace(\"_\",\"\")\n",
        "print(\"plain text: \",pt)\n"
      ],
      "metadata": {
        "id": "nUM185kA94hr",
        "colab": {
          "base_uri": "https://localhost:8080/"
        },
        "outputId": "e128ce40-b056-4725-b237-810d0a8d3837"
      },
      "execution_count": null,
      "outputs": [
        {
          "output_type": "stream",
          "name": "stdout",
          "text": [
            "Enter the Cipher Text: e  kefgsgsrekoe_\n",
            "Enter the key: HACK\n",
            "plain text:  geeks for geeks_\n"
          ]
        }
      ]
    },
    {
      "cell_type": "markdown",
      "source": [
        "#**Experiment 4**"
      ],
      "metadata": {
        "id": "i5wkAiNdqnf5"
      }
    },
    {
      "cell_type": "code",
      "source": [
        "import random as rand"
      ],
      "metadata": {
        "id": "9OEQJK2s-Z3u"
      },
      "execution_count": null,
      "outputs": []
    },
    {
      "cell_type": "code",
      "source": [
        "s0={\n",
        "    0:{0:'01',1:'00', 2:'11', 3:'10'},\n",
        "    1:{0:'11',1:'10', 2:'01', 3:'00'},\n",
        "    2:{0:'00',1:'10', 2:'01', 3:'11'},\n",
        "    3:{0:'11',1:'01', 2:'11', 3:'10'}\n",
        "}\n",
        "s1={\n",
        "    0:{0:'00',1:'01', 2:'10', 3:'11'},\n",
        "    1:{0:'10',1:'00', 2:'01', 3:'11'},\n",
        "    2:{0:'11',1:'00', 2:'01', 3:'00'},\n",
        "    3:{0:'10',1:'01', 2:'00', 3:'11'}\n",
        "}\n",
        "\n",
        "def rcs(key,d):\n",
        "  return key[-d:]+key[0:-d]\n",
        "\n",
        "def p10(key):\n",
        "  if len(key)==10:\n",
        "    nkey=''\n",
        "    nkey=key[2]+key[4]+key[1]+key[6]+key[3]+key[9]+key[0]+key[8]+key[7]+key[5]\n",
        "    return nkey\n",
        "  else:\n",
        "    return -1\n",
        "\n",
        "def p8(key):\n",
        "  if len(key)==10:\n",
        "    nkey=''\n",
        "    nkey=key[3]+key[0]+key[4]+key[1]+key[5]+key[2]+key[7]+key[6]\n",
        "    return nkey\n",
        "  else:\n",
        "    return -1\n",
        "\n",
        "def p4(key):\n",
        "  if len(key)==4:\n",
        "    nkey=''\n",
        "    nkey=key[1]+key[3]+key[2]+key[1]\n",
        "    return nkey\n",
        "  else:\n",
        "    return -1\n",
        "\n",
        "def ip8(pt):\n",
        "  if len(pt)==8:\n",
        "    npt=''\n",
        "    npt=pt[1]+pt[5]+pt[2]+pt[0]+pt[3]+pt[7]+pt[4]+pt[6]\n",
        "    return npt\n",
        "  else:\n",
        "    return -1\n",
        "\n",
        "def exp_per(key):\n",
        "  if len(key)==4:\n",
        "    nkey=''\n",
        "    nkey=key[3]+key[0]+key[1]+key[2]+key[1]+key[2]+key[3]+key[0]\n",
        "    return nkey\n",
        "  else:\n",
        "    return -1\n",
        "def ip8_i(pt):\n",
        "  if len(pt)==8:\n",
        "    npt=''\n",
        "    npt=pt[1]+pt[5]+pt[2]+pt[0]+pt[3]+pt[7]+pt[4]+pt[6]\n",
        "    return npt\n",
        "  else:\n",
        "    return -1\n",
        "def round(lpt,rpt,fkey1):\n",
        "  nrpt=exp_per(rpt)\n",
        "  tempct=bin(int(nrpt,2)^int(fkey1,2))[2:]\n",
        "  if(len(tempct)<8): tempct = (8-len(tempct))*\"0\"+tempct\n",
        "  ltempct=tempct[:4]\n",
        "  rtempct=tempct[4:]\n",
        "\n",
        "  lrow=2*int(ltempct[0])+1*int(ltempct[3])\n",
        "  lcol=2*int(ltempct[1])+1*int(ltempct[2])\n",
        "  l2bct=s0[lrow][lcol]\n",
        "\n",
        "  rrow=2*int(rtempct[0])+1*int(rtempct[3])\n",
        "  rcol=2*int(rtempct[1])+1*int(rtempct[2])\n",
        "  r2bct=s1[rrow][rcol]\n",
        "\n",
        "  tempout=l2bct+r2bct\n",
        "  ptempout=p4(tempout)\n",
        "\n",
        "  out=bin(int(lpt,2)^int(ptempout,2))[2:]\n",
        "  if (len(out)<4): out=(4-len(out))*'0'+out\n",
        "  fout=out+rpt\n",
        "  return fout"
      ],
      "metadata": {
        "id": "TcNEf_3Z3u1z"
      },
      "execution_count": null,
      "outputs": []
    },
    {
      "cell_type": "markdown",
      "source": [
        "Key Generation"
      ],
      "metadata": {
        "id": "ju_cvTPZYBYF"
      }
    },
    {
      "cell_type": "code",
      "source": [
        "key1=bin(rand.randint(0,1023))[2:]\n",
        "if (len(key1)<10): key1=(10-len(key1))*'0'+key1\n",
        "pkey1=p10(key1)\n",
        "\n",
        "lpkey1 = pkey1[:5]\n",
        "rpkey1 = pkey1[5:]\n",
        "\n",
        "lpkey1 = rcs(lpkey1,1)\n",
        "rpkey1 = rcs(rpkey1,1)\n",
        "npkey1=lpkey1+rpkey1\n",
        "fkey1 = p8(npkey1)\n",
        "\n",
        "lpkey2 = rcs(lpkey1,2)\n",
        "rpkey2 = rcs(rpkey1,2)\n",
        "key2  = lpkey2 + rpkey2\n",
        "fkey2 = p8(key2)\n",
        "\n",
        "print(\"Your round 1 key is: \", fkey1)\n",
        "print(\"Your round 2 key is: \", fkey2)\n"
      ],
      "metadata": {
        "colab": {
          "base_uri": "https://localhost:8080/"
        },
        "id": "-N2Npwut3uTb",
        "outputId": "b3f57941-adde-4e9a-80da-919cc39467f1"
      },
      "execution_count": null,
      "outputs": [
        {
          "output_type": "stream",
          "name": "stdout",
          "text": [
            "Your round 1 key is:  01110111\n",
            "Your round 2 key is:  10110101\n"
          ]
        }
      ]
    },
    {
      "cell_type": "markdown",
      "source": [
        "Encryption"
      ],
      "metadata": {
        "id": "7h7qQluVYE5m"
      }
    },
    {
      "cell_type": "code",
      "source": [
        "#encryption\n",
        "pt='01110010'\n",
        "npt=ip8(pt)\n",
        "\n",
        "lpt=npt[:4]\n",
        "rpt=npt[4:]\n",
        "\n",
        "fout=round(lpt,rpt,fkey1)\n",
        "lfout=fout[:4]\n",
        "rfout=fout[4:]\n",
        "lfout,rfout=rfout,lfout\n",
        "fout1=round(lfout,rfout,fkey2)\n",
        "\n",
        "ct=ip8_i(fout1)\n",
        "print(\"Cipher Text: \", ct)"
      ],
      "metadata": {
        "id": "XRQcwbqs_x2c",
        "colab": {
          "base_uri": "https://localhost:8080/"
        },
        "outputId": "31f9448d-e327-427c-c41f-994a98deb964"
      },
      "execution_count": null,
      "outputs": [
        {
          "output_type": "stream",
          "name": "stdout",
          "text": [
            "Cipher Text:  10111100\n",
            "Cipher Text:  10111100\n"
          ]
        }
      ]
    },
    {
      "cell_type": "markdown",
      "source": [
        "# **Experiment 5**"
      ],
      "metadata": {
        "id": "QSy5TWUA7v4V"
      }
    },
    {
      "cell_type": "code",
      "source": [
        "p = int(input(\"Enter p: \"))\n",
        "q=int(input(\"Enter q: \"))\n",
        "e=int(input(\"Enter e: \"))\n",
        "m=int(input(\"Enter message: \"))"
      ],
      "metadata": {
        "colab": {
          "base_uri": "https://localhost:8080/"
        },
        "id": "cOaIMv3A70EU",
        "outputId": "c6058dd2-0332-441f-9c3d-4d5d81312415"
      },
      "execution_count": null,
      "outputs": [
        {
          "name": "stdout",
          "output_type": "stream",
          "text": [
            "Enter p: 3\n",
            "Enter q: 11\n",
            "Enter e: 7\n",
            "Enter message: 5\n"
          ]
        }
      ]
    },
    {
      "cell_type": "code",
      "source": [
        "n = p*q\n",
        "phi_n = (p-1)*(q-1)\n",
        "d=0\n",
        "for i in range(1,phi_n):\n",
        "  if e*i % phi_n == 1:\n",
        "    d=i\n",
        "    break\n",
        "public_key = [e,n]\n",
        "private_key = [d,n]\n",
        "print(\"Public_Key :\", public_key)\n",
        "print(\"Private Key: \", private_key)"
      ],
      "metadata": {
        "id": "iagVoSyp8GUU",
        "colab": {
          "base_uri": "https://localhost:8080/"
        },
        "outputId": "95f16e17-13b2-48c5-e086-76fd95f8299e"
      },
      "execution_count": null,
      "outputs": [
        {
          "output_type": "stream",
          "name": "stdout",
          "text": [
            "Public_Key : [7, 33]\n",
            "Private Key:  [3, 33]\n"
          ]
        }
      ]
    },
    {
      "cell_type": "code",
      "source": [
        "#encryption\n",
        "e=public_key[0]\n",
        "c=(m**e)%n\n",
        "print(\"Cipher Text: \", c)"
      ],
      "metadata": {
        "colab": {
          "base_uri": "https://localhost:8080/"
        },
        "id": "xm4TKqRZ_eSp",
        "outputId": "c3685996-d0ac-403f-aee9-6b5140c62f87"
      },
      "execution_count": null,
      "outputs": [
        {
          "output_type": "stream",
          "name": "stdout",
          "text": [
            "Cipher Text:  14\n"
          ]
        }
      ]
    },
    {
      "cell_type": "code",
      "source": [
        "#decryption\n",
        "d=private_key[0]\n",
        "M=(c**d)%n\n",
        "print(\"Message: \",M)"
      ],
      "metadata": {
        "colab": {
          "base_uri": "https://localhost:8080/"
        },
        "id": "hBeHjWXnAiww",
        "outputId": "e6095bd5-4bce-47f3-c071-c13be3f331f6"
      },
      "execution_count": null,
      "outputs": [
        {
          "output_type": "stream",
          "name": "stdout",
          "text": [
            "Message:  5\n"
          ]
        }
      ]
    },
    {
      "cell_type": "markdown",
      "source": [
        "# **Experiment 6**\n",
        "Digital Signature Standard"
      ],
      "metadata": {
        "id": "A6xloS3wAF_v"
      }
    },
    {
      "cell_type": "code",
      "source": [
        "import math\n",
        "import random as rand\n",
        "def inv(k,q):\n",
        "  for i in range(q):\n",
        "    if ((k*i)%q==1):\n",
        "      return i\n",
        "      break\n",
        "    else:\n",
        "      continue"
      ],
      "metadata": {
        "id": "Elrp-BImcnZP"
      },
      "execution_count": null,
      "outputs": []
    },
    {
      "cell_type": "code",
      "source": [
        "p=56\n",
        "q=11\n",
        "for i in range(p):\n",
        "  if math.pow(i,(p-1)/q)%p>1:\n",
        "    h=i\n",
        "    break;\n",
        "g=int(math.pow(h,(p-1)/q))\n",
        "print(\"Global Values: p: {0}, q: {1}, g: {2}\".format(p,q,g))"
      ],
      "metadata": {
        "id": "R_KDCv5UAFwf",
        "colab": {
          "base_uri": "https://localhost:8080/"
        },
        "outputId": "79f914b2-abfc-4fe1-b9e9-30e7fb35fd73"
      },
      "execution_count": null,
      "outputs": [
        {
          "output_type": "stream",
          "name": "stdout",
          "text": [
            "Global Values: p: 56, q: 11, g: 32\n"
          ]
        }
      ]
    },
    {
      "cell_type": "code",
      "source": [
        "x=rand.randint(0,q)\n",
        "y=int(math.pow(g,x)%p)\n",
        "print(\"Public Key: p: {0}, q: {1}, g: {2}, y: {3}\".format(p,q,g,y))\n",
        "print(\"Global Values: p: {0}, q: {1}, g: {2}, x: {3}\".format(p,q,g,x))"
      ],
      "metadata": {
        "colab": {
          "base_uri": "https://localhost:8080/"
        },
        "id": "mlB-uygrdzUK",
        "outputId": "0401e8aa-1b47-47a5-955c-c542ff0b8248"
      },
      "execution_count": null,
      "outputs": [
        {
          "output_type": "stream",
          "name": "stdout",
          "text": [
            "Public Key: p: 56, q: 11, g: 32, y: 16\n",
            "Global Values: p: 56, q: 11, g: 32, x: 11\n"
          ]
        }
      ]
    },
    {
      "cell_type": "code",
      "source": [
        "k=rand.randint(0,q)\n",
        "print(\"Random Signature Key: {0}\".format(k))"
      ],
      "metadata": {
        "colab": {
          "base_uri": "https://localhost:8080/"
        },
        "id": "Sz_afJMm6LDH",
        "outputId": "9a240cbc-76b8-4479-afb4-001b104018db"
      },
      "execution_count": null,
      "outputs": [
        {
          "output_type": "stream",
          "name": "stdout",
          "text": [
            "Random Signature Key: 1\n"
          ]
        }
      ]
    },
    {
      "cell_type": "code",
      "source": [
        "Hm=6"
      ],
      "metadata": {
        "id": "mNMEm7c88Mhg"
      },
      "execution_count": null,
      "outputs": []
    },
    {
      "cell_type": "code",
      "source": [
        "r=((int(math.pow(g,k)))%p)%q\n",
        "k_inv=inv(k,q)\n",
        "s=(k_inv*(Hm+x*r))%q\n",
        "print(\"Signature of A: [{0},{1}]\".format(r,s))"
      ],
      "metadata": {
        "colab": {
          "base_uri": "https://localhost:8080/"
        },
        "id": "lVMbJx-560Zs",
        "outputId": "3ee64bd5-9b63-46dd-d4d7-44394d186c7b"
      },
      "execution_count": null,
      "outputs": [
        {
          "output_type": "stream",
          "name": "stdout",
          "text": [
            "Signature of A: [10,6]\n"
          ]
        }
      ]
    },
    {
      "cell_type": "markdown",
      "source": [
        "Signature Verification"
      ],
      "metadata": {
        "id": "bHZitmgK9G6O"
      }
    },
    {
      "cell_type": "code",
      "source": [
        "s_inv=inv(s,q)\n",
        "w=s_inv%q\n",
        "u1=(Hm*w)%q\n",
        "u2=(r*w)%q\n",
        "v=((int(math.pow(g,u1))*int(math.pow(y,u2)))%p)%q\n",
        "print(\"u1: {0}, u2: {1}, v: {2}\".format(u1,u2,v))"
      ],
      "metadata": {
        "colab": {
          "base_uri": "https://localhost:8080/"
        },
        "id": "6BxFiuzJ9Gn0",
        "outputId": "64205ab2-af78-4176-e6cc-2c2ff6bd5d8d"
      },
      "execution_count": null,
      "outputs": [
        {
          "output_type": "stream",
          "name": "stdout",
          "text": [
            "u1: 1, u2: 9, v: 10\n"
          ]
        }
      ]
    },
    {
      "cell_type": "code",
      "source": [
        "if v==r:\n",
        "  print(\"Signature is Verified\")\n",
        "else:\n",
        "  print(\"Signature is not verified and hence forgery or tampered message.\")"
      ],
      "metadata": {
        "colab": {
          "base_uri": "https://localhost:8080/"
        },
        "id": "and_JLZ0-Tnd",
        "outputId": "3d1b32d1-c31f-468c-fa55-58f21b7f8dbf"
      },
      "execution_count": null,
      "outputs": [
        {
          "output_type": "stream",
          "name": "stdout",
          "text": [
            "Signature is Verified\n"
          ]
        }
      ]
    }
  ]
}